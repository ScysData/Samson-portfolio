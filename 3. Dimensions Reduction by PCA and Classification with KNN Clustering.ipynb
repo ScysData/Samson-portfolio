{
 "cells": [
  {
   "cell_type": "markdown",
   "id": "7253c02e",
   "metadata": {},
   "source": [
    "---\n",
    "### 3.   \tClustering and Classification \n",
    "\n",
    "In this section ,  the PCA dimensions reduction and knn clustering models are adopted to check if it is possible to identify an awarded restaurant from all the japanese restaurants through machine learning.\n"
   ]
  },
  {
   "cell_type": "code",
   "execution_count": 118,
   "id": "142e6a6c",
   "metadata": {},
   "outputs": [],
   "source": [
    "import pandas as pd #for data manipulation \n",
    "import numpy as np # NumPy is a library working for array\n",
    "import seaborn as sns\n"
   ]
  },
  {
   "cell_type": "code",
   "execution_count": 119,
   "id": "10046ad1",
   "metadata": {},
   "outputs": [],
   "source": [
    "# Get data from csv\n",
    "train_data= pd.read_csv('japanese restaurant_full.csv')\n",
    "award_data= pd.read_csv('Award restaurant_full.csv')"
   ]
  },
  {
   "cell_type": "code",
   "execution_count": 120,
   "id": "8868d35e",
   "metadata": {},
   "outputs": [
    {
     "data": {
      "text/html": [
       "<div>\n",
       "<style scoped>\n",
       "    .dataframe tbody tr th:only-of-type {\n",
       "        vertical-align: middle;\n",
       "    }\n",
       "\n",
       "    .dataframe tbody tr th {\n",
       "        vertical-align: top;\n",
       "    }\n",
       "\n",
       "    .dataframe thead th {\n",
       "        text-align: right;\n",
       "    }\n",
       "</style>\n",
       "<table border=\"1\" class=\"dataframe\">\n",
       "  <thead>\n",
       "    <tr style=\"text-align: right;\">\n",
       "      <th></th>\n",
       "      <th>Bookmarks</th>\n",
       "      <th>Net Positive Review</th>\n",
       "      <th>PriceRange</th>\n",
       "    </tr>\n",
       "  </thead>\n",
       "  <tbody>\n",
       "    <tr>\n",
       "      <th>0</th>\n",
       "      <td>44991.0</td>\n",
       "      <td>1158.0</td>\n",
       "      <td>300</td>\n",
       "    </tr>\n",
       "    <tr>\n",
       "      <th>1</th>\n",
       "      <td>21147.0</td>\n",
       "      <td>876.0</td>\n",
       "      <td>150</td>\n",
       "    </tr>\n",
       "    <tr>\n",
       "      <th>2</th>\n",
       "      <td>36178.0</td>\n",
       "      <td>811.0</td>\n",
       "      <td>300</td>\n",
       "    </tr>\n",
       "    <tr>\n",
       "      <th>3</th>\n",
       "      <td>47156.0</td>\n",
       "      <td>769.0</td>\n",
       "      <td>300</td>\n",
       "    </tr>\n",
       "    <tr>\n",
       "      <th>4</th>\n",
       "      <td>40615.0</td>\n",
       "      <td>492.0</td>\n",
       "      <td>150</td>\n",
       "    </tr>\n",
       "    <tr>\n",
       "      <th>...</th>\n",
       "      <td>...</td>\n",
       "      <td>...</td>\n",
       "      <td>...</td>\n",
       "    </tr>\n",
       "    <tr>\n",
       "      <th>2432</th>\n",
       "      <td>162.0</td>\n",
       "      <td>1.0</td>\n",
       "      <td>600</td>\n",
       "    </tr>\n",
       "    <tr>\n",
       "      <th>2433</th>\n",
       "      <td>303.0</td>\n",
       "      <td>8.0</td>\n",
       "      <td>300</td>\n",
       "    </tr>\n",
       "    <tr>\n",
       "      <th>2434</th>\n",
       "      <td>166.0</td>\n",
       "      <td>6.0</td>\n",
       "      <td>25</td>\n",
       "    </tr>\n",
       "    <tr>\n",
       "      <th>2435</th>\n",
       "      <td>395.0</td>\n",
       "      <td>7.0</td>\n",
       "      <td>75</td>\n",
       "    </tr>\n",
       "    <tr>\n",
       "      <th>2436</th>\n",
       "      <td>3303.0</td>\n",
       "      <td>55.0</td>\n",
       "      <td>75</td>\n",
       "    </tr>\n",
       "  </tbody>\n",
       "</table>\n",
       "<p>2437 rows × 3 columns</p>\n",
       "</div>"
      ],
      "text/plain": [
       "      Bookmarks  Net Positive Review  PriceRange\n",
       "0       44991.0               1158.0         300\n",
       "1       21147.0                876.0         150\n",
       "2       36178.0                811.0         300\n",
       "3       47156.0                769.0         300\n",
       "4       40615.0                492.0         150\n",
       "...         ...                  ...         ...\n",
       "2432      162.0                  1.0         600\n",
       "2433      303.0                  8.0         300\n",
       "2434      166.0                  6.0          25\n",
       "2435      395.0                  7.0          75\n",
       "2436     3303.0                 55.0          75\n",
       "\n",
       "[2437 rows x 3 columns]"
      ]
     },
     "execution_count": 120,
     "metadata": {},
     "output_type": "execute_result"
    }
   ],
   "source": [
    "for data in [train_data,award_data]:    \n",
    "    PR = data['PriceRange']\n",
    "    PriceRanges=[\"Below $50\",\"$51-100\",\"$101-200\",\"$201-400\",\"$401-800\",\"Above $801\"]\n",
    "    Medians=[25,75,150,300,600,1000]\n",
    "    for pricerange,median in zip(PriceRanges,Medians):\n",
    "        PR=PR.replace(pricerange,median)\n",
    "    data['PriceRange']=PR\n",
    "        \n",
    "# Set target data Y equals to combination of columns Bookmarks, Net Positive Review and Price Range\n",
    "# please note that the Net Positive Review mean simply a positive feedback , \n",
    "# it is different from Review Count, which is the number of written review\n",
    "attribute=['Bookmarks','Net Positive Review','PriceRange']\n",
    "train_data_Y = train_data[attribute]\n",
    "award_data_Y = award_data[attribute]\n",
    "train_data_Y"
   ]
  },
  {
   "cell_type": "code",
   "execution_count": 121,
   "id": "65c00431",
   "metadata": {},
   "outputs": [
    {
     "data": {
      "text/plain": [
       "<AxesSubplot:ylabel='Frequency'>"
      ]
     },
     "execution_count": 121,
     "metadata": {},
     "output_type": "execute_result"
    },
    {
     "data": {
      "image/png": "[encoded data removed]",
      "text/plain": [
       "<Figure size 432x288 with 1 Axes>"
      ]
     },
     "metadata": {
      "needs_background": "light"
     },
     "output_type": "display_data"
    }
   ],
   "source": [
    "# Ploting the distribution of the three components\n",
    "train_data_Y.plot(kind = 'hist', y=attribute,bins=90)"
   ]
  },
  {
   "cell_type": "markdown",
   "id": "94205e4d",
   "metadata": {},
   "source": [
    "<i>Before conducting the Principal Component Analysis, we checked the distribution of the data, as there was assumptions for PCA that the data should not be skewed, which contravene with our raw data set. Therefore, we need to log the data to transform them into a more balanced distributed data.</i>"
   ]
  },
  {
   "cell_type": "code",
   "execution_count": 122,
   "id": "4c3872b2",
   "metadata": {},
   "outputs": [
    {
     "data": {
      "text/html": [
       "<div>\n",
       "<style scoped>\n",
       "    .dataframe tbody tr th:only-of-type {\n",
       "        vertical-align: middle;\n",
       "    }\n",
       "\n",
       "    .dataframe tbody tr th {\n",
       "        vertical-align: top;\n",
       "    }\n",
       "\n",
       "    .dataframe thead th {\n",
       "        text-align: right;\n",
       "    }\n",
       "</style>\n",
       "<table border=\"1\" class=\"dataframe\">\n",
       "  <thead>\n",
       "    <tr style=\"text-align: right;\">\n",
       "      <th></th>\n",
       "      <th>Bookmarks</th>\n",
       "      <th>Net Positive Review</th>\n",
       "      <th>PriceRange</th>\n",
       "    </tr>\n",
       "  </thead>\n",
       "  <tbody>\n",
       "    <tr>\n",
       "      <th>0</th>\n",
       "      <td>10.714218</td>\n",
       "      <td>7.054450</td>\n",
       "      <td>5.703782</td>\n",
       "    </tr>\n",
       "    <tr>\n",
       "      <th>1</th>\n",
       "      <td>9.959253</td>\n",
       "      <td>6.775366</td>\n",
       "      <td>5.010635</td>\n",
       "    </tr>\n",
       "    <tr>\n",
       "      <th>2</th>\n",
       "      <td>10.496206</td>\n",
       "      <td>6.698268</td>\n",
       "      <td>5.703782</td>\n",
       "    </tr>\n",
       "    <tr>\n",
       "      <th>3</th>\n",
       "      <td>10.761217</td>\n",
       "      <td>6.645091</td>\n",
       "      <td>5.703782</td>\n",
       "    </tr>\n",
       "    <tr>\n",
       "      <th>4</th>\n",
       "      <td>10.611893</td>\n",
       "      <td>6.198479</td>\n",
       "      <td>5.010635</td>\n",
       "    </tr>\n",
       "    <tr>\n",
       "      <th>...</th>\n",
       "      <td>...</td>\n",
       "      <td>...</td>\n",
       "      <td>...</td>\n",
       "    </tr>\n",
       "    <tr>\n",
       "      <th>2432</th>\n",
       "      <td>5.087596</td>\n",
       "      <td>0.000000</td>\n",
       "      <td>6.396930</td>\n",
       "    </tr>\n",
       "    <tr>\n",
       "      <th>2433</th>\n",
       "      <td>5.713733</td>\n",
       "      <td>2.079442</td>\n",
       "      <td>5.703782</td>\n",
       "    </tr>\n",
       "    <tr>\n",
       "      <th>2434</th>\n",
       "      <td>5.111988</td>\n",
       "      <td>1.791759</td>\n",
       "      <td>3.218876</td>\n",
       "    </tr>\n",
       "    <tr>\n",
       "      <th>2435</th>\n",
       "      <td>5.978886</td>\n",
       "      <td>1.945910</td>\n",
       "      <td>4.317488</td>\n",
       "    </tr>\n",
       "    <tr>\n",
       "      <th>2436</th>\n",
       "      <td>8.102586</td>\n",
       "      <td>4.007333</td>\n",
       "      <td>4.317488</td>\n",
       "    </tr>\n",
       "  </tbody>\n",
       "</table>\n",
       "<p>2437 rows × 3 columns</p>\n",
       "</div>"
      ],
      "text/plain": [
       "      Bookmarks  Net Positive Review  PriceRange\n",
       "0     10.714218             7.054450    5.703782\n",
       "1      9.959253             6.775366    5.010635\n",
       "2     10.496206             6.698268    5.703782\n",
       "3     10.761217             6.645091    5.703782\n",
       "4     10.611893             6.198479    5.010635\n",
       "...         ...                  ...         ...\n",
       "2432   5.087596             0.000000    6.396930\n",
       "2433   5.713733             2.079442    5.703782\n",
       "2434   5.111988             1.791759    3.218876\n",
       "2435   5.978886             1.945910    4.317488\n",
       "2436   8.102586             4.007333    4.317488\n",
       "\n",
       "[2437 rows x 3 columns]"
      ]
     },
     "execution_count": 122,
     "metadata": {},
     "output_type": "execute_result"
    }
   ],
   "source": [
    "#As we see the data is skewed, which contradict with the assumption for k-means clustering method\n",
    "# Therefore we need to log the data\n",
    "train_data_Y_log=np.log(train_data_Y)\n",
    "award_data_Y_log=np.log(award_data_Y)\n",
    "train_data_Y_log"
   ]
  },
  {
   "cell_type": "code",
   "execution_count": 123,
   "id": "71dabb7a",
   "metadata": {},
   "outputs": [
    {
     "data": {
      "text/plain": [
       "<AxesSubplot:ylabel='Frequency'>"
      ]
     },
     "execution_count": 123,
     "metadata": {},
     "output_type": "execute_result"
    },
    {
     "data": {
      "image/png": "[encoded data removed]",
      "text/plain": [
       "<Figure size 432x288 with 1 Axes>"
      ]
     },
     "metadata": {
      "needs_background": "light"
     },
     "output_type": "display_data"
    }
   ],
   "source": [
    "# Ploting the distribution again and now it is more towards a balanced data for k-means clustering method\n",
    "train_data_Y_log.plot(kind = 'hist', y=attribute,bins=90)"
   ]
  },
  {
   "cell_type": "code",
   "execution_count": 124,
   "id": "8d599d36",
   "metadata": {},
   "outputs": [
    {
     "data": {
      "text/plain": [
       "<AxesSubplot:ylabel='Density'>"
      ]
     },
     "execution_count": 124,
     "metadata": {},
     "output_type": "execute_result"
    },
    {
     "data": {
      "image/png": "[encoded data removed]",
      "text/plain": [
       "<Figure size 432x288 with 1 Axes>"
      ]
     },
     "metadata": {
      "needs_background": "light"
     },
     "output_type": "display_data"
    }
   ],
   "source": [
    "# Plot\n",
    "train_data_Y_log.plot(kind = 'density', y=attribute)"
   ]
  },
  {
   "cell_type": "code",
   "execution_count": 125,
   "id": "d38da7de",
   "metadata": {},
   "outputs": [
    {
     "data": {
      "text/plain": [
       "<seaborn.axisgrid.PairGrid at 0x7fb5f241b550>"
      ]
     },
     "execution_count": 125,
     "metadata": {},
     "output_type": "execute_result"
    },
    {
     "data": {
      "image/png": "[encoded data removed]",
      "text/plain": [
       "<Figure size 540x540 with 12 Axes>"
      ]
     },
     "metadata": {
      "needs_background": "light"
     },
     "output_type": "display_data"
    }
   ],
   "source": [
    "# Here we see the relationship of the three columns , they are generally positively related from first sight\n",
    "sns.pairplot(train_data_Y_log)\n"
   ]
  },
  {
   "cell_type": "markdown",
   "id": "ce1085a3",
   "metadata": {},
   "source": [
    "<i>From the pair plot, we see that the review counts and bookmarks are quite close to positively proportional to each other with high correlation, it is not optimal for the PCA , but still PCA would tend to provide more spreaded data than simply plotting them on only two of the components and optimize the environment for clustering.</i>"
   ]
  },
  {
   "cell_type": "code",
   "execution_count": 126,
   "id": "c8af9b5c",
   "metadata": {
    "scrolled": false
   },
   "outputs": [
    {
     "data": {
      "image/png": "[encoded data removed]",
      "text/plain": [
       "<Figure size 432x288 with 2 Axes>"
      ]
     },
     "metadata": {
      "needs_background": "light"
     },
     "output_type": "display_data"
    }
   ],
   "source": [
    "heatmap = sns.heatmap(train_data_Y_log.corr(), vmin=-1, vmax=1, annot=True)\n",
    "heatmap.set_title('Correlation Heatmap', fontdict={'fontsize':12}, pad=12);\n",
    "# and here we see the correlation for all of them are quite high too\n",
    "# it is rational to think that a restaurant with high bookmarks will generally has high review count and net positive review"
   ]
  },
  {
   "cell_type": "code",
   "execution_count": 127,
   "id": "4b31f755",
   "metadata": {},
   "outputs": [
    {
     "data": {
      "text/html": [
       "<div>\n",
       "<style scoped>\n",
       "    .dataframe tbody tr th:only-of-type {\n",
       "        vertical-align: middle;\n",
       "    }\n",
       "\n",
       "    .dataframe tbody tr th {\n",
       "        vertical-align: top;\n",
       "    }\n",
       "\n",
       "    .dataframe thead th {\n",
       "        text-align: right;\n",
       "    }\n",
       "</style>\n",
       "<table border=\"1\" class=\"dataframe\">\n",
       "  <thead>\n",
       "    <tr style=\"text-align: right;\">\n",
       "      <th></th>\n",
       "      <th>principal component 1</th>\n",
       "      <th>principal component 2</th>\n",
       "    </tr>\n",
       "  </thead>\n",
       "  <tbody>\n",
       "    <tr>\n",
       "      <th>0</th>\n",
       "      <td>-4.932080</td>\n",
       "      <td>-0.357421</td>\n",
       "    </tr>\n",
       "    <tr>\n",
       "      <th>1</th>\n",
       "      <td>-4.074969</td>\n",
       "      <td>-0.981740</td>\n",
       "    </tr>\n",
       "    <tr>\n",
       "      <th>2</th>\n",
       "      <td>-4.535332</td>\n",
       "      <td>-0.241555</td>\n",
       "    </tr>\n",
       "    <tr>\n",
       "      <th>3</th>\n",
       "      <td>-4.685546</td>\n",
       "      <td>-0.172469</td>\n",
       "    </tr>\n",
       "    <tr>\n",
       "      <th>4</th>\n",
       "      <td>-4.140306</td>\n",
       "      <td>-0.619037</td>\n",
       "    </tr>\n",
       "    <tr>\n",
       "      <th>...</th>\n",
       "      <td>...</td>\n",
       "      <td>...</td>\n",
       "    </tr>\n",
       "    <tr>\n",
       "      <th>2432</th>\n",
       "      <td>3.711965</td>\n",
       "      <td>2.323048</td>\n",
       "    </tr>\n",
       "    <tr>\n",
       "      <th>2433</th>\n",
       "      <td>1.985924</td>\n",
       "      <td>0.920624</td>\n",
       "    </tr>\n",
       "    <tr>\n",
       "      <th>2434</th>\n",
       "      <td>3.090211</td>\n",
       "      <td>-1.259031</td>\n",
       "    </tr>\n",
       "    <tr>\n",
       "      <th>2435</th>\n",
       "      <td>2.160636</td>\n",
       "      <td>-0.202443</td>\n",
       "    </tr>\n",
       "    <tr>\n",
       "      <th>2436</th>\n",
       "      <td>-0.742284</td>\n",
       "      <td>-0.723006</td>\n",
       "    </tr>\n",
       "  </tbody>\n",
       "</table>\n",
       "<p>2437 rows × 2 columns</p>\n",
       "</div>"
      ],
      "text/plain": [
       "      principal component 1  principal component 2\n",
       "0                 -4.932080              -0.357421\n",
       "1                 -4.074969              -0.981740\n",
       "2                 -4.535332              -0.241555\n",
       "3                 -4.685546              -0.172469\n",
       "4                 -4.140306              -0.619037\n",
       "...                     ...                    ...\n",
       "2432               3.711965               2.323048\n",
       "2433               1.985924               0.920624\n",
       "2434               3.090211              -1.259031\n",
       "2435               2.160636              -0.202443\n",
       "2436              -0.742284              -0.723006\n",
       "\n",
       "[2437 rows x 2 columns]"
      ]
     },
     "execution_count": 127,
     "metadata": {},
     "output_type": "execute_result"
    }
   ],
   "source": [
    "# here we will adopt the Principal Component Analysis for dimension reduction to show all three component into 2 d plot\n",
    "# and hopefully will help us to identify some clusters\n",
    "from sklearn.decomposition import PCA\n",
    "pca = PCA(n_components=2)\n",
    "pca.fit(train_data_Y_log)\n",
    "principalComponents = pca.transform(train_data_Y_log)\n",
    "principalDf = pd.DataFrame(data = principalComponents\n",
    "             , columns = ['principal component 1', 'principal component 2'])\n",
    "principalDf\n",
    "\n"
   ]
  },
  {
   "cell_type": "code",
   "execution_count": 128,
   "id": "d996e416",
   "metadata": {},
   "outputs": [
    {
     "data": {
      "text/plain": [
       "array([[-4.93208007, -0.35742106],\n",
       "       [-4.07496894, -0.9817403 ],\n",
       "       [-4.53533161, -0.24155539],\n",
       "       ...,\n",
       "       [ 3.09021059, -1.25903137],\n",
       "       [ 2.16063626, -0.20244274],\n",
       "       [-0.74228427, -0.72300621]])"
      ]
     },
     "execution_count": 128,
     "metadata": {},
     "output_type": "execute_result"
    }
   ],
   "source": [
    "principalComponents"
   ]
  },
  {
   "cell_type": "markdown",
   "id": "6e9327b0",
   "metadata": {},
   "source": [
    "<i>It is shown in the scree plot that both PC1 and PC2 capture above 90 % of the variance in the data. \n",
    "We try to plot the data with PC1 and PC2 hopefully to visualise the data into clearer distinguishable clusters. </i>\n"
   ]
  },
  {
   "cell_type": "code",
   "execution_count": 129,
   "id": "385d3cb5",
   "metadata": {},
   "outputs": [
    {
     "name": "stdout",
     "output_type": "stream",
     "text": [
      "[0.79821169 0.13493092]\n",
      "2\n"
     ]
    },
    {
     "data": {
      "text/plain": [
       "<AxesSubplot:xlabel='PC', ylabel='var'>"
      ]
     },
     "execution_count": 129,
     "metadata": {},
     "output_type": "execute_result"
    },
    {
     "data": {
      "image/png": "[encoded data removed]",
      "text/plain": [
       "<Figure size 432x288 with 1 Axes>"
      ]
     },
     "metadata": {
      "needs_background": "light"
     },
     "output_type": "display_data"
    }
   ],
   "source": [
    "print(pca.explained_variance_ratio_)\n",
    "print(pca.n_components_)\n",
    "df_pca_var = pd.DataFrame({\n",
    "    'PC': ['PC {}'.format(i+1) for i in range(pca.n_components_)],\n",
    "    'var': pca.explained_variance_ratio_\n",
    "})\n",
    "\n",
    "sns.barplot(x='PC', y='var', data=df_pca_var)"
   ]
  },
  {
   "cell_type": "code",
   "execution_count": 130,
   "id": "18ab36ce",
   "metadata": {
    "scrolled": false
   },
   "outputs": [
    {
     "data": {
      "image/png": "[encoded data removed]",
      "text/plain": [
       "<Figure size 432x288 with 1 Axes>"
      ]
     },
     "metadata": {
      "needs_background": "light"
     },
     "output_type": "display_data"
    }
   ],
   "source": [
    "#here we use the elbow method to determine the optimal value of k in KMeans\n",
    "# as the sum of squared distances decrease significantly after 3 , we adopted 3 as theoptimal number of cluster\n",
    "from sklearn.cluster import KMeans\n",
    "import matplotlib.pyplot as plt\n",
    "Sum_of_squared_distances = []\n",
    "K = range(1,15)\n",
    "for k in K:\n",
    "    km = KMeans(n_clusters=k)\n",
    "    km = km.fit(principalComponents)\n",
    "    Sum_of_squared_distances.append(km.inertia_)\n",
    "\n",
    "plt.plot(K, Sum_of_squared_distances, 'bx-')\n",
    "plt.xlabel('Number of clusters')\n",
    "plt.ylabel('Sum_of_squared_distances')\n",
    "plt.title('Optimal number of clusters')\n",
    "plt.show()"
   ]
  },
  {
   "cell_type": "markdown",
   "id": "34695b68",
   "metadata": {},
   "source": [
    "<i>To reduce the dataset with much greater granularity, we use k-means clustering.\n",
    "Here we fit the principal components to the k-means algorithm to determine the optimal number for clusters.\n",
    "\n",
    "From the plot of sum of squared distances versus number of clusters,  we can see that the change of sum of squared distances after 3 clusters had dropped significantly, we considered it the elbow point and hence we adopted optimal n-component =3.</i>\n"
   ]
  },
  {
   "cell_type": "code",
   "execution_count": 131,
   "id": "02598ed0",
   "metadata": {},
   "outputs": [
    {
     "data": {
      "text/html": [
       "<div>\n",
       "<style scoped>\n",
       "    .dataframe tbody tr th:only-of-type {\n",
       "        vertical-align: middle;\n",
       "    }\n",
       "\n",
       "    .dataframe tbody tr th {\n",
       "        vertical-align: top;\n",
       "    }\n",
       "\n",
       "    .dataframe thead th {\n",
       "        text-align: right;\n",
       "    }\n",
       "</style>\n",
       "<table border=\"1\" class=\"dataframe\">\n",
       "  <thead>\n",
       "    <tr style=\"text-align: right;\">\n",
       "      <th></th>\n",
       "      <th>principal component 1</th>\n",
       "      <th>principal component 2</th>\n",
       "      <th>Rating</th>\n",
       "    </tr>\n",
       "  </thead>\n",
       "  <tbody>\n",
       "    <tr>\n",
       "      <th>0</th>\n",
       "      <td>-4.932080</td>\n",
       "      <td>-0.357421</td>\n",
       "      <td>gp1</td>\n",
       "    </tr>\n",
       "    <tr>\n",
       "      <th>1</th>\n",
       "      <td>-4.074969</td>\n",
       "      <td>-0.981740</td>\n",
       "      <td>gp1</td>\n",
       "    </tr>\n",
       "    <tr>\n",
       "      <th>2</th>\n",
       "      <td>-4.535332</td>\n",
       "      <td>-0.241555</td>\n",
       "      <td>gp1</td>\n",
       "    </tr>\n",
       "    <tr>\n",
       "      <th>3</th>\n",
       "      <td>-4.685546</td>\n",
       "      <td>-0.172469</td>\n",
       "      <td>gp1</td>\n",
       "    </tr>\n",
       "    <tr>\n",
       "      <th>4</th>\n",
       "      <td>-4.140306</td>\n",
       "      <td>-0.619037</td>\n",
       "      <td>gp1</td>\n",
       "    </tr>\n",
       "    <tr>\n",
       "      <th>...</th>\n",
       "      <td>...</td>\n",
       "      <td>...</td>\n",
       "      <td>...</td>\n",
       "    </tr>\n",
       "    <tr>\n",
       "      <th>2432</th>\n",
       "      <td>3.711965</td>\n",
       "      <td>2.323048</td>\n",
       "      <td>gp3</td>\n",
       "    </tr>\n",
       "    <tr>\n",
       "      <th>2433</th>\n",
       "      <td>1.985924</td>\n",
       "      <td>0.920624</td>\n",
       "      <td>gp3</td>\n",
       "    </tr>\n",
       "    <tr>\n",
       "      <th>2434</th>\n",
       "      <td>3.090211</td>\n",
       "      <td>-1.259031</td>\n",
       "      <td>gp3</td>\n",
       "    </tr>\n",
       "    <tr>\n",
       "      <th>2435</th>\n",
       "      <td>2.160636</td>\n",
       "      <td>-0.202443</td>\n",
       "      <td>gp3</td>\n",
       "    </tr>\n",
       "    <tr>\n",
       "      <th>2436</th>\n",
       "      <td>-0.742284</td>\n",
       "      <td>-0.723006</td>\n",
       "      <td>gp2</td>\n",
       "    </tr>\n",
       "  </tbody>\n",
       "</table>\n",
       "<p>2437 rows × 3 columns</p>\n",
       "</div>"
      ],
      "text/plain": [
       "      principal component 1  principal component 2 Rating\n",
       "0                 -4.932080              -0.357421    gp1\n",
       "1                 -4.074969              -0.981740    gp1\n",
       "2                 -4.535332              -0.241555    gp1\n",
       "3                 -4.685546              -0.172469    gp1\n",
       "4                 -4.140306              -0.619037    gp1\n",
       "...                     ...                    ...    ...\n",
       "2432               3.711965               2.323048    gp3\n",
       "2433               1.985924               0.920624    gp3\n",
       "2434               3.090211              -1.259031    gp3\n",
       "2435               2.160636              -0.202443    gp3\n",
       "2436              -0.742284              -0.723006    gp2\n",
       "\n",
       "[2437 rows x 3 columns]"
      ]
     },
     "execution_count": 131,
     "metadata": {},
     "output_type": "execute_result"
    }
   ],
   "source": [
    "kmeans = KMeans(n_clusters=3,random_state = 0)\n",
    "kmeans.fit(principalDf)\n",
    "\n",
    "Rating_value = kmeans.labels_\n",
    "Rating = pd.DataFrame(Rating_value,columns = ['Rating'])\n",
    "Rating = Rating.replace(to_replace = [1,2,0] ,value =['gp1','gp2','gp3'])\n",
    "\n",
    "principalDf_with_Rating = pd.concat([principalDf, Rating], axis=1)\n",
    "principalDf_with_Rating"
   ]
  },
  {
   "cell_type": "code",
   "execution_count": 132,
   "id": "481079f1",
   "metadata": {},
   "outputs": [],
   "source": [
    "# Set varible for 3 ratings \n",
    "Gp1 = principalDf_with_Rating[principalDf_with_Rating['Rating']=='gp1']\n",
    "Gp2 = principalDf_with_Rating[principalDf_with_Rating['Rating']=='gp2']\n",
    "Gp3 = principalDf_with_Rating[principalDf_with_Rating['Rating']=='gp3']"
   ]
  },
  {
   "cell_type": "code",
   "execution_count": 133,
   "id": "0d670ea0",
   "metadata": {},
   "outputs": [],
   "source": [
    "#fit the PCA component to award restaurants data\n",
    "\n",
    "principalComponents2 = pca.transform(award_data_Y_log)\n",
    "principalDf2 = pd.DataFrame(data = principalComponents2\n",
    "             , columns = ['principal component 1', 'principal component 2'])\n"
   ]
  },
  {
   "cell_type": "code",
   "execution_count": 134,
   "id": "928afb01",
   "metadata": {},
   "outputs": [
    {
     "data": {
      "text/html": [
       "<div>\n",
       "<style scoped>\n",
       "    .dataframe tbody tr th:only-of-type {\n",
       "        vertical-align: middle;\n",
       "    }\n",
       "\n",
       "    .dataframe tbody tr th {\n",
       "        vertical-align: top;\n",
       "    }\n",
       "\n",
       "    .dataframe thead th {\n",
       "        text-align: right;\n",
       "    }\n",
       "</style>\n",
       "<table border=\"1\" class=\"dataframe\">\n",
       "  <thead>\n",
       "    <tr style=\"text-align: right;\">\n",
       "      <th></th>\n",
       "      <th>principal component 1</th>\n",
       "      <th>principal component 2</th>\n",
       "      <th>Rating</th>\n",
       "    </tr>\n",
       "  </thead>\n",
       "  <tbody>\n",
       "    <tr>\n",
       "      <th>0</th>\n",
       "      <td>-4.932080</td>\n",
       "      <td>-0.357421</td>\n",
       "      <td>gp1</td>\n",
       "    </tr>\n",
       "    <tr>\n",
       "      <th>1</th>\n",
       "      <td>-4.074969</td>\n",
       "      <td>-0.981740</td>\n",
       "      <td>gp1</td>\n",
       "    </tr>\n",
       "    <tr>\n",
       "      <th>2</th>\n",
       "      <td>-4.535332</td>\n",
       "      <td>-0.241555</td>\n",
       "      <td>gp1</td>\n",
       "    </tr>\n",
       "    <tr>\n",
       "      <th>3</th>\n",
       "      <td>-4.685546</td>\n",
       "      <td>-0.172469</td>\n",
       "      <td>gp1</td>\n",
       "    </tr>\n",
       "    <tr>\n",
       "      <th>4</th>\n",
       "      <td>-4.140306</td>\n",
       "      <td>-0.619037</td>\n",
       "      <td>gp1</td>\n",
       "    </tr>\n",
       "    <tr>\n",
       "      <th>...</th>\n",
       "      <td>...</td>\n",
       "      <td>...</td>\n",
       "      <td>...</td>\n",
       "    </tr>\n",
       "    <tr>\n",
       "      <th>2354</th>\n",
       "      <td>-1.567339</td>\n",
       "      <td>-0.801344</td>\n",
       "      <td>gp1</td>\n",
       "    </tr>\n",
       "    <tr>\n",
       "      <th>2381</th>\n",
       "      <td>-1.618496</td>\n",
       "      <td>-1.868789</td>\n",
       "      <td>gp1</td>\n",
       "    </tr>\n",
       "    <tr>\n",
       "      <th>2383</th>\n",
       "      <td>-1.485797</td>\n",
       "      <td>-0.466551</td>\n",
       "      <td>gp1</td>\n",
       "    </tr>\n",
       "    <tr>\n",
       "      <th>2404</th>\n",
       "      <td>-1.252335</td>\n",
       "      <td>-0.043505</td>\n",
       "      <td>gp1</td>\n",
       "    </tr>\n",
       "    <tr>\n",
       "      <th>2405</th>\n",
       "      <td>-1.488254</td>\n",
       "      <td>0.549558</td>\n",
       "      <td>gp1</td>\n",
       "    </tr>\n",
       "  </tbody>\n",
       "</table>\n",
       "<p>891 rows × 3 columns</p>\n",
       "</div>"
      ],
      "text/plain": [
       "      principal component 1  principal component 2 Rating\n",
       "0                 -4.932080              -0.357421    gp1\n",
       "1                 -4.074969              -0.981740    gp1\n",
       "2                 -4.535332              -0.241555    gp1\n",
       "3                 -4.685546              -0.172469    gp1\n",
       "4                 -4.140306              -0.619037    gp1\n",
       "...                     ...                    ...    ...\n",
       "2354              -1.567339              -0.801344    gp1\n",
       "2381              -1.618496              -1.868789    gp1\n",
       "2383              -1.485797              -0.466551    gp1\n",
       "2404              -1.252335              -0.043505    gp1\n",
       "2405              -1.488254               0.549558    gp1\n",
       "\n",
       "[891 rows x 3 columns]"
      ]
     },
     "execution_count": 134,
     "metadata": {},
     "output_type": "execute_result"
    }
   ],
   "source": [
    "Gp1"
   ]
  },
  {
   "cell_type": "code",
   "execution_count": 135,
   "id": "54c678fd",
   "metadata": {},
   "outputs": [
    {
     "data": {
      "image/png": "[encoded data removed]",
      "text/plain": [
       "<Figure size 432x288 with 1 Axes>"
      ]
     },
     "metadata": {
      "needs_background": "light"
     },
     "output_type": "display_data"
    }
   ],
   "source": [
    "#Plot scatter graph\n",
    "plt.scatter(Gp1['principal component 1'], Gp1['principal component 2'], label='group1', c='blue')\n",
    "plt.scatter(Gp2['principal component 1'], Gp2['principal component 2'], label='group2', c='green')\n",
    "plt.scatter(Gp3['principal component 1'], Gp3['principal component 2'], label='group3', c='orange')\n",
    "\n",
    "plt.scatter(principalDf2['principal component 1'], principalDf2['principal component 2'],s =150 ,marker = '*',edgecolors='black', label='Award Restaurant', c='red')\n",
    "\n",
    "plt.title(\"Factors determining restaurant rating\")\n",
    "plt.xlabel(\"PC 1\")\n",
    "plt.ylabel(\"PC 2\")\n",
    "plt.legend(bbox_to_anchor=(1.05, 1), title = 'Rating',loc='upper left')\n",
    "plt.show()\n",
    "\n",
    "#here we see the awarded restaurant are located all on the left of the graph,which represents “good” rating.\n",
    "#Thus it is safe to say the clustering match quite close to the actual performance"
   ]
  },
  {
   "cell_type": "markdown",
   "id": "42a9e6f4",
   "metadata": {},
   "source": [
    "<i>To verify the clustering, we transform the data of awarded japanese restaurants parsed from Openrice.com with the PCA and plot them onto the same graph to see if the awarded restaurants are all plotted within the same group.\n",
    "\n",
    "Although the data is not significantly divided into 3 clusters, this is a good reference point for clustering.   \n",
    "    \n",
    "From the graph we can see that the awarded restaurants ( star markers) are all located in the same cluster group, hence the result of the clustering is considered satisfactory and the clustered group for further analysis.</i>\n"
   ]
  },
  {
   "cell_type": "code",
   "execution_count": 136,
   "id": "e2622eba",
   "metadata": {},
   "outputs": [
    {
     "data": {
      "text/plain": [
       "array([[ 3.26406748, -0.0230856 ],\n",
       "       [-2.33240222, -0.02099531],\n",
       "       [ 0.25689631,  0.03202803]])"
      ]
     },
     "execution_count": 136,
     "metadata": {},
     "output_type": "execute_result"
    }
   ],
   "source": [
    "kmeans.cluster_centers_"
   ]
  },
  {
   "cell_type": "code",
   "execution_count": 137,
   "id": "abf2b800",
   "metadata": {},
   "outputs": [
    {
     "data": {
      "text/html": [
       "<div>\n",
       "<style scoped>\n",
       "    .dataframe tbody tr th:only-of-type {\n",
       "        vertical-align: middle;\n",
       "    }\n",
       "\n",
       "    .dataframe tbody tr th {\n",
       "        vertical-align: top;\n",
       "    }\n",
       "\n",
       "    .dataframe thead th {\n",
       "        text-align: right;\n",
       "    }\n",
       "</style>\n",
       "<table border=\"1\" class=\"dataframe\">\n",
       "  <thead>\n",
       "    <tr style=\"text-align: right;\">\n",
       "      <th></th>\n",
       "      <th>Title</th>\n",
       "      <th>Area</th>\n",
       "      <th>Location</th>\n",
       "      <th>Bookmarks</th>\n",
       "      <th>Positive Review</th>\n",
       "      <th>Negative Review</th>\n",
       "      <th>Net Positive Review</th>\n",
       "      <th>Review Count</th>\n",
       "      <th>Rating</th>\n",
       "      <th>PriceRange</th>\n",
       "      <th>Genre</th>\n",
       "      <th>Food</th>\n",
       "      <th>Street</th>\n",
       "      <th>addr</th>\n",
       "    </tr>\n",
       "  </thead>\n",
       "  <tbody>\n",
       "    <tr>\n",
       "      <th>0</th>\n",
       "      <td>Towada Sushi 十和田總本店</td>\n",
       "      <td>Tsim Sha Tsui</td>\n",
       "      <td>G/F, Chinachem Cameron Centre, 42 Cameron Road...</td>\n",
       "      <td>44991.0</td>\n",
       "      <td>1197.0</td>\n",
       "      <td>39.0</td>\n",
       "      <td>1158.0</td>\n",
       "      <td>1375</td>\n",
       "      <td>gp1</td>\n",
       "      <td>300</td>\n",
       "      <td>Japanese ,  Sushi/Sashimi</td>\n",
       "      <td>Sushi/Sashimi</td>\n",
       "      <td>42 Cameron Road</td>\n",
       "      <td>42 Cameron Road Tsim Sha Tsui</td>\n",
       "    </tr>\n",
       "    <tr>\n",
       "      <th>1</th>\n",
       "      <td>Gram cafe &amp; pancakes</td>\n",
       "      <td>Tsim Sha Tsui</td>\n",
       "      <td>Shop L408, 4/F, The ONE, 100 Nathan Road, Tsim...</td>\n",
       "      <td>21147.0</td>\n",
       "      <td>1024.0</td>\n",
       "      <td>148.0</td>\n",
       "      <td>876.0</td>\n",
       "      <td>1464</td>\n",
       "      <td>gp1</td>\n",
       "      <td>150</td>\n",
       "      <td>Japanese ,  Dessert</td>\n",
       "      <td>Dessert</td>\n",
       "      <td>100 Nathan Road</td>\n",
       "      <td>100 Nathan Road Tsim Sha Tsui</td>\n",
       "    </tr>\n",
       "    <tr>\n",
       "      <th>2</th>\n",
       "      <td>KOKON2 (Kwun Tong Industrial Centre) 古今二 (官塘工業中心)</td>\n",
       "      <td>Kwun Tong</td>\n",
       "      <td>Room B, 1/F, Kwun Tong Industrial Centre Phase...</td>\n",
       "      <td>36178.0</td>\n",
       "      <td>825.0</td>\n",
       "      <td>14.0</td>\n",
       "      <td>811.0</td>\n",
       "      <td>975</td>\n",
       "      <td>gp1</td>\n",
       "      <td>300</td>\n",
       "      <td>Japanese ,  Sushi/Sashimi</td>\n",
       "      <td>Sushi/Sashimi</td>\n",
       "      <td>436-446 Kwun Tong Road</td>\n",
       "      <td>436-446 Kwun Tong Road Kwun Tong</td>\n",
       "    </tr>\n",
       "    <tr>\n",
       "      <th>3</th>\n",
       "      <td>Shinko 申子居酒屋</td>\n",
       "      <td>Mong Kok</td>\n",
       "      <td>Shop 1, G/F, Ngai Hing Mansion, 74-76 Hak Po S...</td>\n",
       "      <td>47156.0</td>\n",
       "      <td>787.0</td>\n",
       "      <td>18.0</td>\n",
       "      <td>769.0</td>\n",
       "      <td>884</td>\n",
       "      <td>gp1</td>\n",
       "      <td>300</td>\n",
       "      <td>Japanese ,  Wine</td>\n",
       "      <td>Wine</td>\n",
       "      <td>74-76 Hak Po Street</td>\n",
       "      <td>74-76 Hak Po Street Mong Kok</td>\n",
       "    </tr>\n",
       "    <tr>\n",
       "      <th>4</th>\n",
       "      <td>Poach 蟲二</td>\n",
       "      <td>Mong Kok</td>\n",
       "      <td>Rooftop, 618 Shanghai Street, Mong Kok</td>\n",
       "      <td>40615.0</td>\n",
       "      <td>535.0</td>\n",
       "      <td>43.0</td>\n",
       "      <td>492.0</td>\n",
       "      <td>738</td>\n",
       "      <td>gp1</td>\n",
       "      <td>150</td>\n",
       "      <td>Japanese ,  Cake</td>\n",
       "      <td>Cake</td>\n",
       "      <td>618 Shanghai Street</td>\n",
       "      <td>618 Shanghai Street Mong Kok</td>\n",
       "    </tr>\n",
       "    <tr>\n",
       "      <th>...</th>\n",
       "      <td>...</td>\n",
       "      <td>...</td>\n",
       "      <td>...</td>\n",
       "      <td>...</td>\n",
       "      <td>...</td>\n",
       "      <td>...</td>\n",
       "      <td>...</td>\n",
       "      <td>...</td>\n",
       "      <td>...</td>\n",
       "      <td>...</td>\n",
       "      <td>...</td>\n",
       "      <td>...</td>\n",
       "      <td>...</td>\n",
       "      <td>...</td>\n",
       "    </tr>\n",
       "    <tr>\n",
       "      <th>2432</th>\n",
       "      <td>UMI at the Ocean (Moved)</td>\n",
       "      <td>Repulse Bay</td>\n",
       "      <td>Shop 303-304, 3/F, The Pulse, 26-30 Beach Road...</td>\n",
       "      <td>162.0</td>\n",
       "      <td>1.0</td>\n",
       "      <td>0.0</td>\n",
       "      <td>1.0</td>\n",
       "      <td>1</td>\n",
       "      <td>gp3</td>\n",
       "      <td>600</td>\n",
       "      <td>Japanese ,  Sushi/Sashimi</td>\n",
       "      <td>Sushi/Sashimi</td>\n",
       "      <td>26-30 Beach Road</td>\n",
       "      <td>26-30 Beach Road Repulse Bay</td>\n",
       "    </tr>\n",
       "    <tr>\n",
       "      <th>2433</th>\n",
       "      <td>Taste of Home 本家味居酒屋</td>\n",
       "      <td>Sham Tseng</td>\n",
       "      <td>G/F, 57 Sham Tseng Village, Castle Peak Road, ...</td>\n",
       "      <td>303.0</td>\n",
       "      <td>9.0</td>\n",
       "      <td>1.0</td>\n",
       "      <td>8.0</td>\n",
       "      <td>13</td>\n",
       "      <td>gp3</td>\n",
       "      <td>300</td>\n",
       "      <td>Japanese ,  Izakaya</td>\n",
       "      <td>Izakaya</td>\n",
       "      <td>Castle Peak Road</td>\n",
       "      <td>Castle Peak Road Sham Tseng</td>\n",
       "    </tr>\n",
       "    <tr>\n",
       "      <th>2434</th>\n",
       "      <td>新井食堂</td>\n",
       "      <td>Sham Tseng</td>\n",
       "      <td>G/F, 94 Sham Tseng Tsuen, Sham Tseng</td>\n",
       "      <td>166.0</td>\n",
       "      <td>8.0</td>\n",
       "      <td>2.0</td>\n",
       "      <td>6.0</td>\n",
       "      <td>15</td>\n",
       "      <td>gp3</td>\n",
       "      <td>25</td>\n",
       "      <td>Japanese ,  Curry</td>\n",
       "      <td>Curry</td>\n",
       "      <td>94 Sham Tseng Tsuen</td>\n",
       "      <td>94 Sham Tseng Tsuen Sham Tseng</td>\n",
       "    </tr>\n",
       "    <tr>\n",
       "      <th>2435</th>\n",
       "      <td>Ebisu Japanese Restaurant 惠比壽居食屋</td>\n",
       "      <td>Ma Wan</td>\n",
       "      <td>No. 33, Tin Liu New Village,, Ma Wan</td>\n",
       "      <td>395.0</td>\n",
       "      <td>9.0</td>\n",
       "      <td>2.0</td>\n",
       "      <td>7.0</td>\n",
       "      <td>16</td>\n",
       "      <td>gp3</td>\n",
       "      <td>75</td>\n",
       "      <td>Japanese ,  Sushi/Sashimi</td>\n",
       "      <td>Sushi/Sashimi</td>\n",
       "      <td>NaN</td>\n",
       "      <td>Ma Wan</td>\n",
       "    </tr>\n",
       "    <tr>\n",
       "      <th>2436</th>\n",
       "      <td>Cafe Grouchos</td>\n",
       "      <td>Stanley</td>\n",
       "      <td>Shop No.4, Stanley Waterfront Mart, 20 Stanley...</td>\n",
       "      <td>3303.0</td>\n",
       "      <td>60.0</td>\n",
       "      <td>5.0</td>\n",
       "      <td>55.0</td>\n",
       "      <td>86</td>\n",
       "      <td>gp2</td>\n",
       "      <td>75</td>\n",
       "      <td>Japanese ,  Hamburger</td>\n",
       "      <td>Hamburger</td>\n",
       "      <td>20 Stanley Market Road</td>\n",
       "      <td>20 Stanley Market Road Stanley</td>\n",
       "    </tr>\n",
       "  </tbody>\n",
       "</table>\n",
       "<p>2437 rows × 14 columns</p>\n",
       "</div>"
      ],
      "text/plain": [
       "                                                  Title           Area  \\\n",
       "0                                   Towada Sushi 十和田總本店  Tsim Sha Tsui   \n",
       "1                                  Gram cafe & pancakes  Tsim Sha Tsui   \n",
       "2     KOKON2 (Kwun Tong Industrial Centre) 古今二 (官塘工業中心)      Kwun Tong   \n",
       "3                                          Shinko 申子居酒屋       Mong Kok   \n",
       "4                                              Poach 蟲二       Mong Kok   \n",
       "...                                                 ...            ...   \n",
       "2432                           UMI at the Ocean (Moved)    Repulse Bay   \n",
       "2433                               Taste of Home 本家味居酒屋     Sham Tseng   \n",
       "2434                                               新井食堂     Sham Tseng   \n",
       "2435                   Ebisu Japanese Restaurant 惠比壽居食屋         Ma Wan   \n",
       "2436                                      Cafe Grouchos        Stanley   \n",
       "\n",
       "                                               Location  Bookmarks  \\\n",
       "0     G/F, Chinachem Cameron Centre, 42 Cameron Road...    44991.0   \n",
       "1     Shop L408, 4/F, The ONE, 100 Nathan Road, Tsim...    21147.0   \n",
       "2     Room B, 1/F, Kwun Tong Industrial Centre Phase...    36178.0   \n",
       "3     Shop 1, G/F, Ngai Hing Mansion, 74-76 Hak Po S...    47156.0   \n",
       "4                Rooftop, 618 Shanghai Street, Mong Kok    40615.0   \n",
       "...                                                 ...        ...   \n",
       "2432  Shop 303-304, 3/F, The Pulse, 26-30 Beach Road...      162.0   \n",
       "2433  G/F, 57 Sham Tseng Village, Castle Peak Road, ...      303.0   \n",
       "2434               G/F, 94 Sham Tseng Tsuen, Sham Tseng      166.0   \n",
       "2435               No. 33, Tin Liu New Village,, Ma Wan      395.0   \n",
       "2436  Shop No.4, Stanley Waterfront Mart, 20 Stanley...     3303.0   \n",
       "\n",
       "      Positive Review  Negative Review  Net Positive Review  Review Count  \\\n",
       "0              1197.0             39.0               1158.0          1375   \n",
       "1              1024.0            148.0                876.0          1464   \n",
       "2               825.0             14.0                811.0           975   \n",
       "3               787.0             18.0                769.0           884   \n",
       "4               535.0             43.0                492.0           738   \n",
       "...               ...              ...                  ...           ...   \n",
       "2432              1.0              0.0                  1.0             1   \n",
       "2433              9.0              1.0                  8.0            13   \n",
       "2434              8.0              2.0                  6.0            15   \n",
       "2435              9.0              2.0                  7.0            16   \n",
       "2436             60.0              5.0                 55.0            86   \n",
       "\n",
       "     Rating  PriceRange                          Genre               Food  \\\n",
       "0       gp1         300    Japanese ,  Sushi/Sashimi      Sushi/Sashimi     \n",
       "1       gp1         150          Japanese ,  Dessert            Dessert     \n",
       "2       gp1         300    Japanese ,  Sushi/Sashimi      Sushi/Sashimi     \n",
       "3       gp1         300             Japanese ,  Wine               Wine     \n",
       "4       gp1         150             Japanese ,  Cake               Cake     \n",
       "...     ...         ...                            ...                ...   \n",
       "2432    gp3         600    Japanese ,  Sushi/Sashimi      Sushi/Sashimi     \n",
       "2433    gp3         300          Japanese ,  Izakaya            Izakaya     \n",
       "2434    gp3          25            Japanese ,  Curry              Curry     \n",
       "2435    gp3          75    Japanese ,  Sushi/Sashimi      Sushi/Sashimi     \n",
       "2436    gp2          75        Japanese ,  Hamburger          Hamburger     \n",
       "\n",
       "                       Street                              addr  \n",
       "0             42 Cameron Road     42 Cameron Road Tsim Sha Tsui  \n",
       "1             100 Nathan Road     100 Nathan Road Tsim Sha Tsui  \n",
       "2      436-446 Kwun Tong Road  436-446 Kwun Tong Road Kwun Tong  \n",
       "3         74-76 Hak Po Street      74-76 Hak Po Street Mong Kok  \n",
       "4         618 Shanghai Street      618 Shanghai Street Mong Kok  \n",
       "...                       ...                               ...  \n",
       "2432         26-30 Beach Road      26-30 Beach Road Repulse Bay  \n",
       "2433         Castle Peak Road       Castle Peak Road Sham Tseng  \n",
       "2434      94 Sham Tseng Tsuen    94 Sham Tseng Tsuen Sham Tseng  \n",
       "2435                      NaN                            Ma Wan  \n",
       "2436   20 Stanley Market Road    20 Stanley Market Road Stanley  \n",
       "\n",
       "[2437 rows x 14 columns]"
      ]
     },
     "execution_count": 137,
     "metadata": {},
     "output_type": "execute_result"
    }
   ],
   "source": [
    "## Add rating column in dataset\n",
    "japanese_restaurant_with_Rating = pd.concat([train_data, Rating], axis=1)\n",
    "japanese_restaurant_with_Rating\n",
    "\n",
    "## Rearrange dataset\n",
    "japanese_restaurant_with_Rating = japanese_restaurant_with_Rating[['Title','Area','Location','Bookmarks','Positive Review','Negative Review','Net Positive Review','Review Count','Rating','PriceRange','Genre','Food','Street','addr']] # ,'lon','lat']]\n",
    "japanese_restaurant_with_Rating"
   ]
  },
  {
   "cell_type": "code",
   "execution_count": 138,
   "id": "978eb439",
   "metadata": {},
   "outputs": [],
   "source": [
    "## Save to CSV and excel\n",
    "japanese_restaurant_with_Rating.to_excel(\"log_japanese restaurant with rating_PCA.xlsx\")\n",
    "japanese_restaurant_with_Rating.to_csv(\"log_japanese restaurant with rating_PCA.csv\")"
   ]
  },
  {
   "cell_type": "code",
   "execution_count": null,
   "id": "ee15d027",
   "metadata": {},
   "outputs": [],
   "source": []
  }
 ],
 "metadata": {
  "kernelspec": {
   "display_name": "Python 3 (ipykernel)",
   "language": "python",
   "name": "python3"
  },
  "language_info": {
   "codemirror_mode": {
    "name": "ipython",
    "version": 3
   },
   "file_extension": ".py",
   "mimetype": "text/x-python",
   "name": "python",
   "nbconvert_exporter": "python",
   "pygments_lexer": "ipython3",
   "version": "3.9.7"
  }
 },
 "nbformat": 4,
 "nbformat_minor": 5
}
